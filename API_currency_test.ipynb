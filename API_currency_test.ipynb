import requests
from flask import Flask, request

app = Flask(__name__)

@app.route("/", methods=["GET", "POST"])
def index():
    if request.method == "GET":
        # Повертаємо поточні дати за замовчуванням
        update_from = datetime.date.today()
        update_to = datetime.date.today()

    # Отримуємо параметри з URL
    elif request.method == "POST":
        update_from = request.form.get("update_from")
        update_to = request.form.get("update_to")

        # Перевіряємо, чи коректні дати
        try:
            update_from = datetime.datetime.strptime(update_from, "%Y-%m-%d").date()
            update_to = datetime.datetime.strptime(update_to, "%Y-%m-%d").date()
        except ValueError:
            return "Неправильний формат дати"

    # Отримуємо курс валюти з API НБУ
    response = requests.get(f"https://bank.gov.ua/NBU_Exchange/exchange?valcode=USD&date={update_from}&date={update_to}")
    data = response.json()

    # Обробляємо дані
    rates = {}
    for rate in data:
        date = rate["date"]
        rate = rate["rate"]
        rates[date] = rate

    # Записуємо дані в Google Sheet
    sheet = gspread.service_account(filename="credentials.json").open_by_url("https://docs.google.com/spreadsheets/d/1FpiOoPKYGVjfuGNeW0rXUePZyYhA6CoSdGs4CoSdGs4yx4/edit?usp=sharing")
    worksheet = sheet.get_worksheet(0)
    for date, rate in rates.items():
        worksheet.update_cell(date, rate)

    return "Дані успішно оновлені"

if __name__ == "__main__":
    app.run(debug=True)
